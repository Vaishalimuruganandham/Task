{
  "nbformat": 4,
  "nbformat_minor": 0,
  "metadata": {
    "colab": {
      "provenance": []
    },
    "kernelspec": {
      "name": "python3",
      "display_name": "Python 3"
    },
    "language_info": {
      "name": "python"
    }
  },
  "cells": [
    {
      "cell_type": "code",
      "source": [
        "def count_vowel(string):\n",
        "  string=string.lower()\n",
        "  count=0\n",
        "  for i in string:\n",
        "    if i in 'aeiou':\n",
        "      count+=1\n",
        "  return count\n",
        "count_vowel('vaishali')"
      ],
      "metadata": {
        "colab": {
          "base_uri": "https://localhost:8080/"
        },
        "id": "w8x2EOSge-92",
        "outputId": "04f2289f-119e-4e36-9271-6fd102caea23"
      },
      "execution_count": null,
      "outputs": [
        {
          "output_type": "execute_result",
          "data": {
            "text/plain": [
              "4"
            ]
          },
          "metadata": {},
          "execution_count": 1
        }
      ]
    },
    {
      "cell_type": "code",
      "source": [
        "a=int(input())\n",
        "b=int(input())\n",
        "a,b=b,a\n",
        "print(f\"a:{a} and b:{b}\")"
      ],
      "metadata": {
        "colab": {
          "base_uri": "https://localhost:8080/"
        },
        "id": "L5SGBCdsfTII",
        "outputId": "a5a58b5f-432c-4191-cb14-1260563c9264"
      },
      "execution_count": null,
      "outputs": [
        {
          "output_type": "stream",
          "name": "stdout",
          "text": [
            "4\n",
            "5\n",
            "a:5 and b:4\n"
          ]
        }
      ]
    },
    {
      "cell_type": "code",
      "source": [
        "l=[1,2,3,4,5,6,7,8]\n",
        "print(list(filter(lambda x:x%2!=0,l)))"
      ],
      "metadata": {
        "colab": {
          "base_uri": "https://localhost:8080/"
        },
        "id": "VBx1yOBAfhQf",
        "outputId": "8ec02c23-cd31-42d4-8b67-8c3899971d1f"
      },
      "execution_count": null,
      "outputs": [
        {
          "output_type": "stream",
          "name": "stdout",
          "text": [
            "[1, 3, 5, 7]\n"
          ]
        }
      ]
    },
    {
      "cell_type": "code",
      "source": [
        "class person():\n",
        "  def __init__(self,name,age):\n",
        "    self.name=name\n",
        "    self.age=age\n",
        "  def display(self):\n",
        "    print(self.name,self.age)\n",
        "p=person('vaish',21)\n",
        "p.display()"
      ],
      "metadata": {
        "colab": {
          "base_uri": "https://localhost:8080/"
        },
        "id": "m5_jdnfb_AP9",
        "outputId": "ecfeda8f-f749-406d-8ac9-472590b402b1"
      },
      "execution_count": 2,
      "outputs": [
        {
          "output_type": "stream",
          "name": "stdout",
          "text": [
            "vaish 21\n"
          ]
        }
      ]
    },
    {
      "cell_type": "code",
      "source": [
        "#*args--this allow the function to accept any number of positional arguments..this argument received as tuple\n",
        "#**kwargs--this allow the function to accept any number of keyword(key-pair) argument..this argument received as dictionary"
      ],
      "metadata": {
        "id": "ujT0A6uq_YFt"
      },
      "execution_count": null,
      "outputs": []
    },
    {
      "cell_type": "code",
      "source": [
        "def sum(*args):\n",
        "  sum=0\n",
        "  for i in args:\n",
        "    sum+=i\n",
        "  return sum\n",
        "sum(1,2,3,4,5)"
      ],
      "metadata": {
        "colab": {
          "base_uri": "https://localhost:8080/"
        },
        "id": "uI0lAfPWAZY5",
        "outputId": "286b34d6-a024-41dc-a652-7b88d50025b5"
      },
      "execution_count": 6,
      "outputs": [
        {
          "output_type": "execute_result",
          "data": {
            "text/plain": [
              "15"
            ]
          },
          "metadata": {},
          "execution_count": 6
        }
      ]
    },
    {
      "cell_type": "code",
      "source": [
        "def dic(**kwargs):\n",
        "  for k,v in kwargs.items():\n",
        "    print(k,v)\n",
        "dic(name='vaish',age=21,gender='female')"
      ],
      "metadata": {
        "colab": {
          "base_uri": "https://localhost:8080/"
        },
        "id": "fYOryRlKBHde",
        "outputId": "3dcdd296-f446-46f6-8814-6a8db83fae68"
      },
      "execution_count": 7,
      "outputs": [
        {
          "output_type": "stream",
          "name": "stdout",
          "text": [
            "name vaish\n",
            "age 21\n",
            "gender female\n"
          ]
        }
      ]
    },
    {
      "cell_type": "code",
      "source": [],
      "metadata": {
        "id": "g19y5VnGBXZa"
      },
      "execution_count": null,
      "outputs": []
    }
  ]
}