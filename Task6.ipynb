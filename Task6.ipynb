{
  "nbformat": 4,
  "nbformat_minor": 0,
  "metadata": {
    "colab": {
      "provenance": []
    },
    "kernelspec": {
      "name": "python3",
      "display_name": "Python 3"
    },
    "language_info": {
      "name": "python"
    }
  },
  "cells": [
    {
      "cell_type": "code",
      "execution_count": 3,
      "metadata": {
        "colab": {
          "base_uri": "https://localhost:8080/"
        },
        "id": "H0GyY8FXoc3u",
        "outputId": "6ec51b79-9f0e-407d-9c77-6e017a52b73f"
      },
      "outputs": [
        {
          "output_type": "stream",
          "name": "stdout",
          "text": [
            "{'name': 'vishnu', 'age': 22, 'gender': 'female', 'job': 'analyst'}\n"
          ]
        }
      ],
      "source": [
        "d1={'name':'Vaishali','age':21,'gender':'female'}\n",
        "d2={'name':'vishnu','age':22,'job':'analyst'}\n",
        "m={**d1,**d2}\n",
        "print(m)"
      ]
    },
    {
      "cell_type": "code",
      "source": [
        "lis=['mango','banana','apple','grapes']\n",
        "lis.sort()\n",
        "print(lis)"
      ],
      "metadata": {
        "colab": {
          "base_uri": "https://localhost:8080/"
        },
        "id": "0FtpbADno38q",
        "outputId": "264f1587-6ebe-4d82-9a54-555a1011d0f1"
      },
      "execution_count": 4,
      "outputs": [
        {
          "output_type": "stream",
          "name": "stdout",
          "text": [
            "['apple', 'banana', 'grapes', 'mango']\n"
          ]
        }
      ]
    },
    {
      "cell_type": "code",
      "source": [
        "fruits=['mango','banana','apple','grapes']\n",
        "for i,j in enumerate(fruits):\n",
        "  print(i,j)"
      ],
      "metadata": {
        "colab": {
          "base_uri": "https://localhost:8080/"
        },
        "id": "SdCCaz2JqMyh",
        "outputId": "3226b514-57fa-49ca-813b-e02904761ce8"
      },
      "execution_count": 5,
      "outputs": [
        {
          "output_type": "stream",
          "name": "stdout",
          "text": [
            "0 mango\n",
            "1 banana\n",
            "2 apple\n",
            "3 grapes\n"
          ]
        }
      ]
    },
    {
      "cell_type": "code",
      "source": [
        "a=[[1,2], [3,4], [5,6]]\n",
        "b=[]\n",
        "for i in a:\n",
        "  if type(i)=='list':\n",
        "    b.extend(i)\n",
        "  else:\n",
        "    b.append(i)\n",
        "print(b)\n"
      ],
      "metadata": {
        "colab": {
          "base_uri": "https://localhost:8080/"
        },
        "id": "Xzv4DBderF91",
        "outputId": "1046a0bd-751a-4912-e704-733b210363f3"
      },
      "execution_count": 6,
      "outputs": [
        {
          "output_type": "stream",
          "name": "stdout",
          "text": [
            "[[1, 2], [3, 4], [5, 6]]\n"
          ]
        }
      ]
    },
    {
      "cell_type": "code",
      "metadata": {
        "colab": {
          "base_uri": "https://localhost:8080/"
        },
        "id": "f092764b",
        "outputId": "c3a279dd-567f-4aa8-b379-3e04e9d40ba0"
      },
      "source": [
        "a=[[1,2], [3,4], [5,6]]\n",
        "b=[]\n",
        "for i in a:\n",
        "  if isinstance(i,list):\n",
        "    b.extend(i)\n",
        "  else:\n",
        "    b.append(i)\n",
        "print(b)"
      ],
      "execution_count": 8,
      "outputs": [
        {
          "output_type": "stream",
          "name": "stdout",
          "text": [
            "[1, 2, 3, 4, 5, 6]\n"
          ]
        }
      ]
    },
    {
      "cell_type": "code",
      "source": [
        "with open('file.txt','w') as f:\n",
        "  for i in range(1,11):\n",
        "    f.write(str(i**2)+'\\\\n')"
      ],
      "metadata": {
        "id": "vw_YFU1zsWyU"
      },
      "execution_count": 9,
      "outputs": []
    }
  ]
}