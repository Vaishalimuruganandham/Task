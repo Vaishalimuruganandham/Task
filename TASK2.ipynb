{
  "nbformat": 4,
  "nbformat_minor": 0,
  "metadata": {
    "colab": {
      "provenance": []
    },
    "kernelspec": {
      "name": "python3",
      "display_name": "Python 3"
    },
    "language_info": {
      "name": "python"
    }
  },
  "cells": [
    {
      "cell_type": "code",
      "execution_count": 1,
      "metadata": {
        "colab": {
          "base_uri": "https://localhost:8080/"
        },
        "id": "pHbjMdyn74nM",
        "outputId": "a0e9bbf5-85e9-4ce0-c4f2-1edc29160991"
      },
      "outputs": [
        {
          "output_type": "stream",
          "name": "stdout",
          "text": [
            "enter a number5\n",
            "120\n"
          ]
        }
      ],
      "source": [
        "def factorail(n):\n",
        "  if n==0 or n==1:\n",
        "    return 1\n",
        "  else:\n",
        "    return n*factorail(n-1)\n",
        "n=int(input('enter a number'))\n",
        "print(factorail(n))"
      ]
    },
    {
      "cell_type": "code",
      "source": [
        "l=[1,2,3,4,4,5,5,6,7,8,9]\n",
        "d=[]\n",
        "for i in l:\n",
        "  if i not in d:\n",
        "    d.append(i)\n",
        "print(d)"
      ],
      "metadata": {
        "colab": {
          "base_uri": "https://localhost:8080/"
        },
        "id": "Y-hwCs6z80dz",
        "outputId": "a8a3ab22-54a8-4e72-c290-8e500e9366fb"
      },
      "execution_count": 4,
      "outputs": [
        {
          "output_type": "stream",
          "name": "stdout",
          "text": [
            "[1, 2, 3, 4, 5, 6, 7, 8, 9]\n"
          ]
        }
      ]
    },
    {
      "cell_type": "code",
      "source": [
        "#or\n",
        "l=[1,2,3,4,4,5,5,6,7,8,9]\n",
        "a=set(l)\n",
        "print(list(a))"
      ],
      "metadata": {
        "colab": {
          "base_uri": "https://localhost:8080/"
        },
        "id": "zUz6clTD9GVk",
        "outputId": "2abc8a46-70f8-4425-f1eb-d2b2bfaf34aa"
      },
      "execution_count": 5,
      "outputs": [
        {
          "output_type": "stream",
          "name": "stdout",
          "text": [
            "[1, 2, 3, 4, 5, 6, 7, 8, 9]\n"
          ]
        }
      ]
    },
    {
      "cell_type": "code",
      "source": [
        "import json\n",
        "with open('filename.json','r') as file:\n",
        "  data=json.load(file)\n",
        "print('content of json:',data)"
      ],
      "metadata": {
        "id": "XHh2NHzE9YSq"
      },
      "execution_count": null,
      "outputs": []
    },
    {
      "cell_type": "code",
      "source": [
        "a=[1,2,3]\n",
        "b=a\n",
        "b.append(4)\n",
        "print(a)\n",
        "# b=a ie..a and b are refer to the same memory location"
      ],
      "metadata": {
        "colab": {
          "base_uri": "https://localhost:8080/"
        },
        "id": "A8MWgNW--l0A",
        "outputId": "33eb6d23-6f17-4d6e-f9dc-9b7a35baf38b"
      },
      "execution_count": 6,
      "outputs": [
        {
          "output_type": "stream",
          "name": "stdout",
          "text": [
            "[1, 2, 3, 4]\n"
          ]
        }
      ]
    },
    {
      "cell_type": "code",
      "source": [],
      "metadata": {
        "id": "rha8nc6k_oA9"
      },
      "execution_count": null,
      "outputs": []
    }
  ]
}