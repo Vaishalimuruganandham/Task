{
  "nbformat": 4,
  "nbformat_minor": 0,
  "metadata": {
    "colab": {
      "provenance": []
    },
    "kernelspec": {
      "name": "python3",
      "display_name": "Python 3"
    },
    "language_info": {
      "name": "python"
    }
  },
  "cells": [
    {
      "cell_type": "code",
      "execution_count": 1,
      "metadata": {
        "colab": {
          "base_uri": "https://localhost:8080/"
        },
        "id": "uDRxzy4XW5Bf",
        "outputId": "0d0aa9bf-183e-4ea8-a1d9-957d0a82e972"
      },
      "outputs": [
        {
          "output_type": "stream",
          "name": "stdout",
          "text": [
            "28\n"
          ]
        }
      ],
      "source": [
        "l=[1,2,3,4,5,6,7]\n",
        "sum=0\n",
        "for i in l:\n",
        "  sum+=i\n",
        "print(sum)\n"
      ]
    },
    {
      "cell_type": "code",
      "source": [
        "#dictionary comprehension is similiar to list comprehension but it uses braces{} and has keyvalue pairs\n",
        "#create dictionary in python using single line of code\n",
        "d={ i:i**2 for i in range(1,11)}\n",
        "d"
      ],
      "metadata": {
        "colab": {
          "base_uri": "https://localhost:8080/"
        },
        "id": "XdMnv4MgXDuR",
        "outputId": "a4f70bd5-870d-4175-d023-7dd3512f72c0"
      },
      "execution_count": 2,
      "outputs": [
        {
          "output_type": "execute_result",
          "data": {
            "text/plain": [
              "{1: 1, 2: 4, 3: 9, 4: 16, 5: 25, 6: 36, 7: 49, 8: 64, 9: 81, 10: 100}"
            ]
          },
          "metadata": {},
          "execution_count": 2
        }
      ]
    },
    {
      "cell_type": "code",
      "source": [
        "a=int(input('please enter a number that is greater than one'))\n",
        "factor=0\n",
        "for i in range(1,a+1):\n",
        "  if a%i==0:\n",
        "    factor+=1\n",
        "if factor>2:\n",
        "  print('not a prime')\n",
        "else:\n",
        "  print('prime')"
      ],
      "metadata": {
        "colab": {
          "base_uri": "https://localhost:8080/"
        },
        "id": "T3CpbOiYX7CE",
        "outputId": "a3fe4154-5da1-43c9-b4ce-ed345ab027e3"
      },
      "execution_count": 6,
      "outputs": [
        {
          "output_type": "stream",
          "name": "stdout",
          "text": [
            "enter a number1\n",
            "prime\n"
          ]
        }
      ]
    },
    {
      "cell_type": "code",
      "source": [
        "n1=int(input('enter a number'))\n",
        "n2=int(input('enter a number'))\n",
        "try:\n",
        "  z=n1/n2\n",
        "  print(z)\n",
        "except ZeroDivisionError:\n",
        "  print('division by zero is not possible,please provide a number greater than zero')\n"
      ],
      "metadata": {
        "colab": {
          "base_uri": "https://localhost:8080/"
        },
        "id": "7_t3aFJ8YYxP",
        "outputId": "c4589543-c49f-4fd5-fe50-573069dfd4b6"
      },
      "execution_count": 9,
      "outputs": [
        {
          "output_type": "stream",
          "name": "stdout",
          "text": [
            "enter a number5\n",
            "enter a number0\n",
            "division by zero is not possible,please provide a number greater than zero\n"
          ]
        }
      ]
    },
    {
      "cell_type": "code",
      "source": [
        "#when we run a python file,python set a built in variable like __name__ to\"__main__\" so any code inside this run only if it is executed,not when its import"
      ],
      "metadata": {
        "id": "gI-FHToVZaIx"
      },
      "execution_count": null,
      "outputs": []
    }
  ]
}