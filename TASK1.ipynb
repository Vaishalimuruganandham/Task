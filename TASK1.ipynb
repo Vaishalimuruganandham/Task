{
  "nbformat": 4,
  "nbformat_minor": 0,
  "metadata": {
    "colab": {
      "provenance": []
    },
    "kernelspec": {
      "name": "python3",
      "display_name": "Python 3"
    },
    "language_info": {
      "name": "python"
    }
  },
  "cells": [
    {
      "cell_type": "code",
      "execution_count": null,
      "metadata": {
        "colab": {
          "base_uri": "https://localhost:8080/"
        },
        "id": "F8zpC04Uy-jJ",
        "outputId": "43c9f0bc-5b37-472b-bf04-ec2e59041a78"
      },
      "outputs": [
        {
          "output_type": "stream",
          "name": "stdout",
          "text": [
            "enter a stringMOm\n",
            "The string is a palindrome\n"
          ]
        }
      ],
      "source": [
        "def palindrome(s):\n",
        "  s=s.lower()\n",
        "  return s==s[::-1]\n",
        "string=input('enter a string')\n",
        "if palindrome(string):\n",
        "  print('The string is a palindrome')\n",
        "else:\n",
        "  print('The string is not a palindrome')"
      ]
    },
    {
      "cell_type": "code",
      "source": [
        "key=['a','b','c']\n",
        "value=[1,2,3]\n",
        "print(dict(zip(key,value)))"
      ],
      "metadata": {
        "colab": {
          "base_uri": "https://localhost:8080/"
        },
        "id": "qD7anNyx0aq2",
        "outputId": "3a36ed68-dd8a-475b-8c74-57b11ab773ed"
      },
      "execution_count": null,
      "outputs": [
        {
          "output_type": "stream",
          "name": "stdout",
          "text": [
            "{'a': 1, 'b': 2, 'c': 3}\n"
          ]
        }
      ]
    },
    {
      "cell_type": "code",
      "source": [
        "#or\n",
        "d={}\n",
        "for i in range(len(value)):\n",
        "  d[key[i]]=value[i]\n",
        "print(d)"
      ],
      "metadata": {
        "colab": {
          "base_uri": "https://localhost:8080/"
        },
        "id": "OuvRrzKu06fC",
        "outputId": "79941d5b-5ef6-47f9-b317-1e00f28747f6"
      },
      "execution_count": null,
      "outputs": [
        {
          "output_type": "stream",
          "name": "stdout",
          "text": [
            "{'a': 1, 'b': 2, 'c': 3}\n"
          ]
        }
      ]
    },
    {
      "cell_type": "code",
      "source": [
        "#list is the collection of heterogenous mutuable elements(we can change elements present inside)\n",
        "#we can use method like append(),pop(),clear(),add etc..\n",
        "#list is created by using square bracket[] or list()\n",
        "#Tuple is also the collection of heterogenous but immutuable elements(we cant change elements)\n",
        "#tuple created using paranthese() or tuple"
      ],
      "metadata": {
        "id": "2T8Q10ia2wQo"
      },
      "execution_count": null,
      "outputs": []
    },
    {
      "cell_type": "markdown",
      "source": [],
      "metadata": {
        "id": "ocDDNhxG2-nj"
      }
    },
    {
      "cell_type": "code",
      "source": [
        "count=0\n",
        "with open('file_name.text',\"r\") as file:\n",
        "  for line in file:\n",
        "    if \"python\" in line.lower():\n",
        "      count+=1\n",
        "print('number of lines containing the word python:',count)"
      ],
      "metadata": {
        "id": "-znddL9l4kr9"
      },
      "execution_count": null,
      "outputs": []
    },
    {
      "cell_type": "code",
      "source": [
        "#squares = [x**2 for x in range(10) if x%2==0]\n",
        "#this list comprehension code first fetch the even numbers in the range of 0 to 9 then it will give squared output of even numbers"
      ],
      "metadata": {
        "id": "mtn6Ygek6MSi"
      },
      "execution_count": null,
      "outputs": []
    }
  ]
}