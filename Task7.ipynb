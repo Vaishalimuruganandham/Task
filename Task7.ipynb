{
  "nbformat": 4,
  "nbformat_minor": 0,
  "metadata": {
    "colab": {
      "provenance": []
    },
    "kernelspec": {
      "name": "python3",
      "display_name": "Python 3"
    },
    "language_info": {
      "name": "python"
    }
  },
  "cells": [
    {
      "cell_type": "code",
      "execution_count": 1,
      "metadata": {
        "colab": {
          "base_uri": "https://localhost:8080/"
        },
        "id": "jY6rPXrLtqKM",
        "outputId": "de308a6b-4ea5-40a0-cf30-42c34a0be0a0"
      },
      "outputs": [
        {
          "output_type": "stream",
          "name": "stdout",
          "text": [
            "largest number is 90\n",
            "smallest number is 4\n"
          ]
        }
      ],
      "source": [
        "li=[11,42,35,4,5,6,89,90]\n",
        "largest=li[0]\n",
        "smallest=li[0]\n",
        "for i in li:\n",
        "  if i>largest:\n",
        "    largest=i\n",
        "  elif i<smallest:\n",
        "    smallest=i\n",
        "print('largest number is',largest)\n",
        "print('smallest number is',smallest)"
      ]
    },
    {
      "cell_type": "code",
      "source": [
        "#The zip() function in Python is used to combine multiple iterables (like lists, tuples, etc.)\n",
        "li1=[1,2,3]\n",
        "li2=[3,4,5]\n",
        "list(zip(li1,li2))"
      ],
      "metadata": {
        "colab": {
          "base_uri": "https://localhost:8080/"
        },
        "id": "zku8Lz0CtEpP",
        "outputId": "07a6ff6b-f299-494c-c554-dc2f2851a843"
      },
      "execution_count": 2,
      "outputs": [
        {
          "output_type": "execute_result",
          "data": {
            "text/plain": [
              "[(1, 3), (2, 4), (3, 5)]"
            ]
          },
          "metadata": {},
          "execution_count": 2
        }
      ]
    },
    {
      "cell_type": "code",
      "source": [
        "a=int(input('enter first number: '))\n",
        "b=int(input('enter second number: '))\n",
        "operation=input('enter operation: ')\n",
        "if operation=='+':\n",
        "  print(a+b)\n",
        "elif operation=='-':\n",
        "  print(a-b)\n",
        "elif operation=='*':\n",
        "  print(a*b)\n",
        "else:\n",
        "  print(a/b)"
      ],
      "metadata": {
        "colab": {
          "base_uri": "https://localhost:8080/"
        },
        "id": "LC4GqlOyvdhN",
        "outputId": "b7883a83-3264-4e07-87d0-36425a22ab68"
      },
      "execution_count": 7,
      "outputs": [
        {
          "output_type": "stream",
          "name": "stdout",
          "text": [
            "enter first number: 6\n",
            "enter second number: 5\n",
            "enter operation: *\n",
            "30\n"
          ]
        }
      ]
    },
    {
      "cell_type": "code",
      "source": [
        "7#Module in python is collection of function,classes,variables.It help organize code into logical unit and make it easier to reuse\n",
        "#example\n",
        "import math8\n",
        "print(math.pi)"
      ],
      "metadata": {
        "colab": {
          "base_uri": "https://localhost:8080/"
        },
        "id": "XOVKpXq1yhhj",
        "outputId": "0f5cfbff-f197-48ce-c79d-4c80992be734"
      },
      "execution_count": 4,
      "outputs": [
        {
          "output_type": "stream",
          "name": "stdout",
          "text": [
            "3.141592653589793\n"
          ]
        }
      ]
    },
    {
      "cell_type": "code",
      "source": [
        "a='The quick brown fox'.split()\n",
        "d={}\n",
        "for i in a:\n",
        "  if i not in d:\n",
        "    d[i]=1\n",
        "  else:\n",
        "    d[i]+=1\n",
        "print(d)"
      ],
      "metadata": {
        "colab": {
          "base_uri": "https://localhost:8080/"
        },
        "id": "Hamw_PeI1t6C",
        "outputId": "a9706ef7-fe81-4ebd-abd3-4579aca5a7c6"
      },
      "execution_count": 11,
      "outputs": [
        {
          "output_type": "stream",
          "name": "stdout",
          "text": [
            "{'The': 1, 'quick': 1, 'brown': 1, 'fox': 1}\n"
          ]
        }
      ]
    },
    {
      "cell_type": "code",
      "source": [],
      "metadata": {
        "id": "DE7GW3V22xq3"
      },
      "execution_count": null,
      "outputs": []
    }
  ]
}